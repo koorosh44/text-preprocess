{
  "nbformat": 4,
  "nbformat_minor": 0,
  "metadata": {
    "colab": {
      "provenance": [],
      "authorship_tag": "ABX9TyOcGaGd60AnV6K3evU5u62m",
      "include_colab_link": true
    },
    "kernelspec": {
      "name": "python3",
      "display_name": "Python 3"
    },
    "language_info": {
      "name": "python"
    }
  },
  "cells": [
    {
      "cell_type": "markdown",
      "metadata": {
        "id": "view-in-github",
        "colab_type": "text"
      },
      "source": [
        "<a href=\"https://colab.research.google.com/github/koorosh44/text-preprocess/blob/main/simpleTextPreProcess.ipynb\" target=\"_parent\"><img src=\"https://colab.research.google.com/assets/colab-badge.svg\" alt=\"Open In Colab\"/></a>"
      ]
    },
    {
      "cell_type": "code",
      "execution_count": 1,
      "metadata": {
        "colab": {
          "base_uri": "https://localhost:8080/"
        },
        "id": "Mgxwj-stqToY",
        "outputId": "f57c390d-149c-47e0-c880-c30835fcf863"
      },
      "outputs": [
        {
          "output_type": "stream",
          "name": "stderr",
          "text": [
            "[nltk_data] Downloading package punkt to /root/nltk_data...\n",
            "[nltk_data]   Unzipping tokenizers/punkt.zip.\n"
          ]
        },
        {
          "output_type": "execute_result",
          "data": {
            "text/plain": [
              "True"
            ]
          },
          "metadata": {},
          "execution_count": 1
        }
      ],
      "source": [
        "import nltk\n",
        "nltk.download('punkt')"
      ]
    },
    {
      "cell_type": "code",
      "source": [
        "paragraph = \"\"\"Computer science is a field of study that focuses on the theoretical and practical aspects of computers and computational systems. This discipline includes the design and analysis of algorithms, programming, data structures, as well as more advanced topics such as artificial intelligence, machine learning, and information security. Computer science professionals strive to solve complex problems using technology and computational methods, and they design efficient and reliable software and hardware systems. This field is widely applied in industry, research, and development.\"\"\""
      ],
      "metadata": {
        "id": "u4j3B2OSrhD_"
      },
      "execution_count": 2,
      "outputs": []
    },
    {
      "cell_type": "code",
      "source": [
        "sentences = nltk.sent_tokenize(paragraph)\n",
        "sentences"
      ],
      "metadata": {
        "colab": {
          "base_uri": "https://localhost:8080/"
        },
        "id": "2QS-AjkPrnMU",
        "outputId": "885990b2-90e0-4bc7-b14b-44060820d83f"
      },
      "execution_count": 3,
      "outputs": [
        {
          "output_type": "execute_result",
          "data": {
            "text/plain": [
              "['Computer science is a field of study that focuses on the theoretical and practical aspects of computers and computational systems.',\n",
              " 'This discipline includes the design and analysis of algorithms, programming, data structures, as well as more advanced topics such as artificial intelligence, machine learning, and information security.',\n",
              " 'Computer science professionals strive to solve complex problems using technology and computational methods, and they design efficient and reliable software and hardware systems.',\n",
              " 'This field is widely applied in industry, research, and development.']"
            ]
          },
          "metadata": {},
          "execution_count": 3
        }
      ]
    },
    {
      "cell_type": "code",
      "source": [
        "words = nltk.word_tokenize(paragraph)\n",
        "words"
      ],
      "metadata": {
        "colab": {
          "base_uri": "https://localhost:8080/"
        },
        "id": "gYAiFyQ7r0o-",
        "outputId": "2386e2e9-7c93-445d-b778-72f2e347ec70"
      },
      "execution_count": 4,
      "outputs": [
        {
          "output_type": "execute_result",
          "data": {
            "text/plain": [
              "['Computer',\n",
              " 'science',\n",
              " 'is',\n",
              " 'a',\n",
              " 'field',\n",
              " 'of',\n",
              " 'study',\n",
              " 'that',\n",
              " 'focuses',\n",
              " 'on',\n",
              " 'the',\n",
              " 'theoretical',\n",
              " 'and',\n",
              " 'practical',\n",
              " 'aspects',\n",
              " 'of',\n",
              " 'computers',\n",
              " 'and',\n",
              " 'computational',\n",
              " 'systems',\n",
              " '.',\n",
              " 'This',\n",
              " 'discipline',\n",
              " 'includes',\n",
              " 'the',\n",
              " 'design',\n",
              " 'and',\n",
              " 'analysis',\n",
              " 'of',\n",
              " 'algorithms',\n",
              " ',',\n",
              " 'programming',\n",
              " ',',\n",
              " 'data',\n",
              " 'structures',\n",
              " ',',\n",
              " 'as',\n",
              " 'well',\n",
              " 'as',\n",
              " 'more',\n",
              " 'advanced',\n",
              " 'topics',\n",
              " 'such',\n",
              " 'as',\n",
              " 'artificial',\n",
              " 'intelligence',\n",
              " ',',\n",
              " 'machine',\n",
              " 'learning',\n",
              " ',',\n",
              " 'and',\n",
              " 'information',\n",
              " 'security',\n",
              " '.',\n",
              " 'Computer',\n",
              " 'science',\n",
              " 'professionals',\n",
              " 'strive',\n",
              " 'to',\n",
              " 'solve',\n",
              " 'complex',\n",
              " 'problems',\n",
              " 'using',\n",
              " 'technology',\n",
              " 'and',\n",
              " 'computational',\n",
              " 'methods',\n",
              " ',',\n",
              " 'and',\n",
              " 'they',\n",
              " 'design',\n",
              " 'efficient',\n",
              " 'and',\n",
              " 'reliable',\n",
              " 'software',\n",
              " 'and',\n",
              " 'hardware',\n",
              " 'systems',\n",
              " '.',\n",
              " 'This',\n",
              " 'field',\n",
              " 'is',\n",
              " 'widely',\n",
              " 'applied',\n",
              " 'in',\n",
              " 'industry',\n",
              " ',',\n",
              " 'research',\n",
              " ',',\n",
              " 'and',\n",
              " 'development',\n",
              " '.']"
            ]
          },
          "metadata": {},
          "execution_count": 4
        }
      ]
    },
    {
      "cell_type": "code",
      "source": [
        "from nltk.stem import PorterStemmer\n",
        "from nltk.corpus import stopwords\n",
        "nltk.download('stopwords')"
      ],
      "metadata": {
        "colab": {
          "base_uri": "https://localhost:8080/"
        },
        "id": "f4rJYe17sf_F",
        "outputId": "0435a7f3-ebbd-4e8e-8a0f-68abc40f87cb"
      },
      "execution_count": 5,
      "outputs": [
        {
          "output_type": "stream",
          "name": "stderr",
          "text": [
            "[nltk_data] Downloading package stopwords to /root/nltk_data...\n",
            "[nltk_data]   Unzipping corpora/stopwords.zip.\n"
          ]
        },
        {
          "output_type": "execute_result",
          "data": {
            "text/plain": [
              "True"
            ]
          },
          "metadata": {},
          "execution_count": 5
        }
      ]
    },
    {
      "cell_type": "code",
      "source": [
        "stemmer = PorterStemmer();\n",
        "\n",
        "for i in range(len(sentences)):\n",
        "  words = nltk.word_tokenize(sentences[i])\n",
        "  words = [stemmer.stem(word) for word in words if word not in set(stopwords.words('english'))]\n",
        "  sentences[i] + ' '.join(words)\n",
        "\n",
        "sentences[i]\n",
        "\n"
      ],
      "metadata": {
        "colab": {
          "base_uri": "https://localhost:8080/",
          "height": 36
        },
        "id": "a9xO4P7gu8Rp",
        "outputId": "afb5ee39-b882-4ed8-ecf4-bf396d9021da"
      },
      "execution_count": 6,
      "outputs": [
        {
          "output_type": "execute_result",
          "data": {
            "text/plain": [
              "'This field is widely applied in industry, research, and development.'"
            ],
            "application/vnd.google.colaboratory.intrinsic+json": {
              "type": "string"
            }
          },
          "metadata": {},
          "execution_count": 6
        }
      ]
    },
    {
      "cell_type": "code",
      "source": [
        "from nltk.stem import WordNetLemmatizer\n",
        "nltk.download('wordnet')"
      ],
      "metadata": {
        "colab": {
          "base_uri": "https://localhost:8080/"
        },
        "id": "iKLv1obYxFUB",
        "outputId": "96486933-e869-4dbc-efb4-a45f0ba7e1ca"
      },
      "execution_count": 7,
      "outputs": [
        {
          "output_type": "stream",
          "name": "stderr",
          "text": [
            "[nltk_data] Downloading package wordnet to /root/nltk_data...\n"
          ]
        },
        {
          "output_type": "execute_result",
          "data": {
            "text/plain": [
              "True"
            ]
          },
          "metadata": {},
          "execution_count": 7
        }
      ]
    },
    {
      "cell_type": "code",
      "source": [
        "lemmatizer = WordNetLemmatizer();\n",
        "\n",
        "for i in range(len(sentences)):\n",
        "  words = nltk.word_tokenize(sentences[i])\n",
        "  words = [lemmatizer.lemmatize(word) for word in words if word not in set(stopwords.words('english'))]\n",
        "  sentences[i] + ' '.join(words)\n",
        "\n",
        "sentences[i]"
      ],
      "metadata": {
        "colab": {
          "base_uri": "https://localhost:8080/",
          "height": 36
        },
        "id": "1VWDU4Pexkkc",
        "outputId": "5a6433b2-9c66-4a55-f665-092fe209188a"
      },
      "execution_count": 8,
      "outputs": [
        {
          "output_type": "execute_result",
          "data": {
            "text/plain": [
              "'This field is widely applied in industry, research, and development.'"
            ],
            "application/vnd.google.colaboratory.intrinsic+json": {
              "type": "string"
            }
          },
          "metadata": {},
          "execution_count": 8
        }
      ]
    },
    {
      "cell_type": "code",
      "source": [
        "import re\n",
        "from nltk.corpus import stopwords\n",
        "from nltk.stem.porter import PorterStemmer\n",
        "from nltk.stem import WordNetLemmatizer\n",
        "\n",
        "ps = PorterStemmer()\n",
        "wordnet = WordNetLemmatizer()\n",
        "sentences = nltk.sent_tokenize(paragraph)\n",
        "corpus = []\n",
        "for i in range(len(sentences)):\n",
        "  review = re.sub('[^a-zA-Z]', \" \", sentences[i])\n",
        "  review = review.lower()\n",
        "  review = review.split()\n",
        "  review = [ps.stem(word) for word in review if not word in set(stopwords.words('english'))]\n",
        "  review = \" \".join(review)\n",
        "  corpus.append(review)\n",
        "\n",
        "  from sklearn.feature_extraction.text import CountVectorizer\n",
        "  cv = CountVectorizer(max_features = 1500)\n",
        "  x = cv.fit_transform(corpus).toarray()\n",
        "\n"
      ],
      "metadata": {
        "id": "503Hsg1HyBNT"
      },
      "execution_count": 12,
      "outputs": []
    },
    {
      "cell_type": "code",
      "source": [
        "x"
      ],
      "metadata": {
        "colab": {
          "base_uri": "https://localhost:8080/"
        },
        "id": "9qrVfVfd0mZL",
        "outputId": "f4d78fa9-d5ba-4265-dfcf-4c7de1e2c994"
      },
      "execution_count": 13,
      "outputs": [
        {
          "output_type": "execute_result",
          "data": {
            "text/plain": [
              "array([[0, 0, 0, 0, 0, 1, 0, 3, 0, 0, 0, 0, 0, 1, 1, 0, 0, 0, 0, 0, 0, 0,\n",
              "        0, 1, 0, 0, 0, 0, 0, 1, 0, 0, 0, 0, 0, 1, 1, 0, 1, 0, 0, 0, 0],\n",
              "       [1, 1, 1, 0, 1, 0, 0, 0, 1, 1, 0, 1, 0, 0, 0, 0, 1, 0, 1, 1, 1, 1,\n",
              "        0, 0, 0, 0, 1, 0, 0, 0, 1, 0, 0, 0, 1, 0, 0, 0, 0, 1, 0, 1, 0],\n",
              "       [0, 0, 0, 0, 0, 0, 1, 2, 0, 1, 0, 0, 1, 0, 0, 1, 0, 0, 0, 0, 0, 0,\n",
              "        1, 0, 1, 1, 0, 1, 0, 1, 0, 1, 1, 1, 0, 0, 1, 1, 0, 0, 1, 0, 0],\n",
              "       [0, 0, 0, 1, 0, 0, 0, 0, 0, 0, 1, 0, 0, 1, 0, 0, 0, 1, 0, 0, 0, 0,\n",
              "        0, 0, 0, 0, 0, 0, 1, 0, 0, 0, 0, 0, 0, 0, 0, 0, 0, 0, 0, 0, 1]])"
            ]
          },
          "metadata": {},
          "execution_count": 13
        }
      ]
    },
    {
      "cell_type": "code",
      "source": [
        "sentences = nltk.sent_tokenize(paragraph)\n",
        "corpus = []\n",
        "for i in range(len(sentences)):\n",
        "  review = re.sub('[^a-zA-Z]', \" \", sentences[i])\n",
        "  review = review.lower()\n",
        "  review = review.split()\n",
        "  review = [wordnet.lemmatize(word) for word in review if not word in set(stopwords.words('english'))]\n",
        "  review = \" \".join(review)\n",
        "  corpus.append(review)\n",
        "\n",
        "  from sklearn.feature_extraction.text import TfidfVectorizer\n",
        "  tf = TfidfVectorizer()\n",
        "  x = tf.fit_transform(corpus).toarray()"
      ],
      "metadata": {
        "id": "zHugCLKn0xZA"
      },
      "execution_count": 14,
      "outputs": []
    },
    {
      "cell_type": "code",
      "source": [
        "x"
      ],
      "metadata": {
        "colab": {
          "base_uri": "https://localhost:8080/"
        },
        "id": "2CyDqyXJ1sCJ",
        "outputId": "5ce6149c-315a-45c7-c623-bb42fd3c7f56"
      },
      "execution_count": 15,
      "outputs": [
        {
          "output_type": "execute_result",
          "data": {
            "text/plain": [
              "array([[0.        , 0.        , 0.        , 0.        , 0.        ,\n",
              "        0.31665965, 0.        , 0.2496581 , 0.4993162 , 0.        ,\n",
              "        0.        , 0.        , 0.        , 0.        , 0.2496581 ,\n",
              "        0.31665965, 0.        , 0.        , 0.        , 0.        ,\n",
              "        0.        , 0.        , 0.        , 0.        , 0.31665965,\n",
              "        0.        , 0.        , 0.        , 0.        , 0.        ,\n",
              "        0.2496581 , 0.        , 0.        , 0.        , 0.        ,\n",
              "        0.        , 0.31665965, 0.2496581 , 0.        , 0.31665965,\n",
              "        0.        , 0.        , 0.        , 0.        ],\n",
              "       [0.24528087, 0.24528087, 0.24528087, 0.        , 0.24528087,\n",
              "        0.        , 0.        , 0.        , 0.        , 0.24528087,\n",
              "        0.19338226, 0.        , 0.24528087, 0.        , 0.        ,\n",
              "        0.        , 0.        , 0.24528087, 0.        , 0.24528087,\n",
              "        0.24528087, 0.24528087, 0.24528087, 0.        , 0.        ,\n",
              "        0.        , 0.        , 0.24528087, 0.        , 0.        ,\n",
              "        0.        , 0.24528087, 0.        , 0.        , 0.        ,\n",
              "        0.24528087, 0.        , 0.        , 0.        , 0.        ,\n",
              "        0.24528087, 0.        , 0.24528087, 0.        ],\n",
              "       [0.        , 0.        , 0.        , 0.        , 0.        ,\n",
              "        0.        , 0.25727468, 0.20283831, 0.20283831, 0.        ,\n",
              "        0.20283831, 0.        , 0.        , 0.25727468, 0.        ,\n",
              "        0.        , 0.25727468, 0.        , 0.        , 0.        ,\n",
              "        0.        , 0.        , 0.        , 0.25727468, 0.        ,\n",
              "        0.25727468, 0.25727468, 0.        , 0.25727468, 0.        ,\n",
              "        0.20283831, 0.        , 0.25727468, 0.25727468, 0.25727468,\n",
              "        0.        , 0.        , 0.20283831, 0.25727468, 0.        ,\n",
              "        0.        , 0.25727468, 0.        , 0.        ],\n",
              "       [0.        , 0.        , 0.        , 0.42176478, 0.        ,\n",
              "        0.        , 0.        , 0.        , 0.        , 0.        ,\n",
              "        0.        , 0.42176478, 0.        , 0.        , 0.3325242 ,\n",
              "        0.        , 0.        , 0.        , 0.42176478, 0.        ,\n",
              "        0.        , 0.        , 0.        , 0.        , 0.        ,\n",
              "        0.        , 0.        , 0.        , 0.        , 0.42176478,\n",
              "        0.        , 0.        , 0.        , 0.        , 0.        ,\n",
              "        0.        , 0.        , 0.        , 0.        , 0.        ,\n",
              "        0.        , 0.        , 0.        , 0.42176478]])"
            ]
          },
          "metadata": {},
          "execution_count": 15
        }
      ]
    },
    {
      "cell_type": "code",
      "source": [],
      "metadata": {
        "id": "HFf1iOIQ1tG0"
      },
      "execution_count": null,
      "outputs": []
    }
  ]
}